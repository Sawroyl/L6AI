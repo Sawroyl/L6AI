{
  "nbformat": 4,
  "nbformat_minor": 0,
  "metadata": {
    "colab": {
      "provenance": []
    },
    "kernelspec": {
      "name": "python3",
      "display_name": "Python 3"
    },
    "language_info": {
      "name": "python"
    }
  },
  "cells": [
    {
      "cell_type": "markdown",
      "source": [
        "Task- 1:\n"
      ],
      "metadata": {
        "id": "YOAahrsn4j7y"
      }
    },
    {
      "cell_type": "markdown",
      "source": [
        "Create a Python program that converts between different units of measurement.  • The program should:\n",
        " 1. Prompt the user to choose the type of conversion (e.g., length, weight, volume).\n",
        " 2. Ask the user to input the value to be converted.\n",
        " 3. Perform the conversion and display the result.\n",
        " 4. Handle potential errors, such as invalid input or unsupported conversion types.\n",
        " • Requirements:\n",
        " 1. Functions: Define at least one function to perform the conversion.\n",
        " 2. Error Handling: Use try-except blocks to handle invalid input (e.g., non-numeric values).\n",
        " 3. User Input: Prompt the user to select the conversion type and input the value.\n",
        " 4. Docstrings: Include a docstring in your function to describe its purpose, parameters, and\n",
        " return value.\n",
        " • Conversion Options:\n",
        " 1. Length:– Convert meters (m) to feet (ft).– Convert feet (ft) to meters (m).\n",
        " 2. Weight:– Convert kilograms (kg) to pounds (lbs).– Convert pounds (lbs) to kilograms (kg).\n",
        " 3. Volume:– Convert liters (L) to gallons (gal).– Convert gallons (gal) to liters (L)."
      ],
      "metadata": {
        "id": "5k2m7Xwv1oc_"
      }
    },
    {
      "cell_type": "code",
      "source": [
        "print(\"Choose the type conversion that you want: \")\n",
        "print(\"1. Length \\n 2. Weight \\n 3. Volume\")\n",
        "choice = input()\n",
        "\n",
        "#for length conversion\n",
        "if choice == '1' or choice.lower() == \"length\":\n",
        "  print(\"Choose the type of conversion you want below: \")\n",
        "  print(\"1. Meters(m) to Feet(ft) \\n 2. Feet(ft) to Meters(m)\")\n",
        "  choice1 = input()\n",
        "\n",
        "  print(\"Enter the value:\")\n",
        "\n",
        "  try:\n",
        "    num = float(input())\n",
        "    if choice1 == '1' or choice1.lower() == \"meters\" or choice1 ==\"m\":\n",
        "      value=mtoft(num)\n",
        "      print(f\"The converted value is:  {value:.2f} feet\")\n",
        "    elif choice1 == '2' or choice1.lower() == \"feet\" or choice1 == \"ft\":\n",
        "      value=fttom(num)\n",
        "      print(f\"The converted value is: {value:.2f} meters\")\n",
        "    else:\n",
        "      print(\"Invalid Input. \")\n",
        "  except ValueError:\n",
        "    print(\"Please input a valid number for the value.\")\n",
        "\n",
        "#for weight conversion\n",
        "elif choice == '2' or choice.lower() == \"weight\":\n",
        "  print(\"Choose the type of conversion you want below: \")\n",
        "  print(\"1. Kilograms (kg) to Pounds (lbs) \\n2. Pounds (lbs) to Kilograms (kg)\")\n",
        "  choice2 = input()\n",
        "\n",
        "  print(\"Enter the value:\")\n",
        "\n",
        "  try:\n",
        "    num = float(input())\n",
        "    if choice2 == '1' or choice2.lower() == \"kilograms\" or choice2 ==\"kg\":\n",
        "      value=kgtolb(num)\n",
        "      print(f\"The converted value is:  {value:.2f} lbs.\")\n",
        "    elif choice2 == '2' or choice2.lower() == \"pounds\" or choice2 == \"lbs\":\n",
        "      value=lbtokg(num)\n",
        "      print(f\"The converted value is: {value:.2f} kg.\")\n",
        "    else:\n",
        "      print(\"Invalid Input. \")\n",
        "  except ValueError:\n",
        "    print(\"Please input a valid number for the value.\")\n",
        "\n",
        "#for volume conversion\n",
        "elif choice == '3' or choice.lower() == \"volume\":\n",
        "  print(\"Choose the type of conversion you want below: \")\n",
        "  print(\"1. Litres (L) to Gallons (gal) \\n2. Gallons (gal) to Litres (L)\")\n",
        "  choice3 = input()\n",
        "\n",
        "  print(\"Enter the value:\")\n",
        "  try:\n",
        "    num = float(input())\n",
        "    if choice3 == '1' or choice3.lower() == \"litres\" or choice3.lower ==\"l\":\n",
        "      value= ltogal(num)\n",
        "      print(f\"The converted value is:  {value:.2f} gal.\")\n",
        "    elif choice3 == '2' or choice3.lower() == \"gallons\" or choice3 == \"gal\":\n",
        "      value=galtol(num)\n",
        "      print(f\"The converted value is: {value:.2f} L.\")\n",
        "    else:\n",
        "      print(\"Invalid Input. \")\n",
        "  except ValueError:\n",
        "    print(\"Please input a valid number for the value.\")\n",
        "\n",
        "def mtoft(m):\n",
        "    \"\"\"\n",
        "    Converts meters to feet.\n",
        "    Parameters:\n",
        "    m (float): The value in meters to be converted.\n",
        "    Returns:\n",
        "    float: The converted value in feet.\n",
        "    \"\"\"\n",
        "    ft = m * 3.28084\n",
        "    return ft\n",
        "\n",
        "def fttom(ft):\n",
        "    \"\"\"\n",
        "    Converts feet to meters.\n",
        "    Parameters:\n",
        "    ft (float): The value in feet to be converted.\n",
        "    Returns:\n",
        "    float: The converted value in meters.\n",
        "    \"\"\"\n",
        "    m = ft * 0.3048\n",
        "    return m\n",
        "\n",
        "def kgtolb(kg):\n",
        "    \"\"\"\n",
        "    Converts kilograms to pounds.\n",
        "    Parameters:\n",
        "    kg (float): The value in kilograms to be converted.\n",
        "    Returns:\n",
        "    float: The converted value in pounds.\n",
        "    \"\"\"\n",
        "    lb = kg * 2.20462\n",
        "    return lb\n",
        "\n",
        "def lbtokg(lb):\n",
        "    \"\"\"\n",
        "    Converts pounds to kilograms.\n",
        "    Parameters:\n",
        "    lb (float): The value in pounds to be converted.\n",
        "    Returns:\n",
        "    float: The converted value in kilograms.\n",
        "    \"\"\"\n",
        "    kg = lb * 0.453592\n",
        "    return kg\n",
        "\n",
        "def ltogal(l):\n",
        "    \"\"\"\n",
        "    Converts liters to gallons.\n",
        "    Parameters:\n",
        "    l (float): The value in liters to be converted.\n",
        "    Returns:\n",
        "    float: The converted value in gallons.\n",
        "    \"\"\"\n",
        "    gal = l * 0.264172\n",
        "    return gal\n",
        "\n",
        "def galtol(gal):\n",
        "    \"\"\"\n",
        "    Converts gallons to liters.\n",
        "    Parameters:\n",
        "    gal (float): The value in gallons to be converted.\n",
        "    Returns:\n",
        "    float: The converted value in liters.\n",
        "    \"\"\"\n",
        "    l = gal * 3.78541\n",
        "    return l\n",
        "\n",
        "\n"
      ],
      "metadata": {
        "colab": {
          "base_uri": "https://localhost:8080/"
        },
        "id": "9q1KgytQ1yPr",
        "outputId": "e1b3cef9-82f6-47ac-fd36-ff8d9363ec69"
      },
      "execution_count": null,
      "outputs": [
        {
          "output_type": "stream",
          "name": "stdout",
          "text": [
            "Choose the type conversion that you want: \n",
            "1. Length \n",
            " 2. Weight \n",
            " 3. Volume\n",
            "3\n",
            "Choose the type of conversion you want below: \n",
            "1. Litres (L) to Gallons (gal) \n",
            "2. Gallons (gal) to Litres (L)\n",
            "1\n",
            "Enter the value:\n",
            "3\n",
            "The converted value is:  0.79 gal.\n"
          ]
        }
      ]
    },
    {
      "cell_type": "markdown",
      "source": [
        "Task -2\n",
        " Create a Python program that performs various mathematical operations on a list of numbers.\n",
        " • The Program should:\n",
        " 1. Prompt the user to choose an operation (e.g., find the sum, average, maximum, or minimum\n",
        " of the numbers).\n",
        " 2. Ask the user to input a list of numbers (separated by spaces).\n",
        " 18\n",
        "\n",
        " 3. Perform the selected operation and display the result.\n",
        " 4. Handle potential errors, such as invalid input or empty lists.\n",
        " • Requirements:\n",
        " 1. Functions: Define at least one function for each operation (sum, average, maximum, mini\n",
        "mum).\n",
        " 2. Error Handling: Use try-except blocks to handle invalid input (e.g., non-numeric values or\n",
        " empty lists).\n",
        " 3. User Input: Prompt the user to select the operation and input the list of numbers.\n",
        " 4. Docstrings: Include a docstring in each function to describe its purpose, parameters, and\n",
        " return value.\n"
      ],
      "metadata": {
        "id": "GBqFouoxEcme"
      }
    },
    {
      "cell_type": "code",
      "source": [
        "def find_sum(n):\n",
        "  \"\"\"\n",
        "  Calculates the sum of a list of numbers.\n",
        "  Parameters:\n",
        "  n (list): A list of numbers.\n",
        "  Returns:\n",
        "  float: The sum of the numbers in the list.\n",
        "  \"\"\"\n",
        "  total = 0\n",
        "  for num in n:\n",
        "      total += n\n",
        "  return total\n",
        "\n",
        "def find_avg(n):\n",
        "  \"\"\"\n",
        "  Calculates the average of a list of numbers.\n",
        "  Parameters:\n",
        "  n (list): A list of numbers.\n",
        "  Returns:\n",
        "  float: The average of the numbers in the list.\n",
        "  \"\"\"\n",
        "  return sum(n)/len(n)\n",
        "\n",
        "def find_max(n):\n",
        "  \"\"\"\n",
        "  Finds the maximum value in the list of numbers.\n",
        "  Parameters:\n",
        "  n (list): A list of numbers.\n",
        "  Returns:\n",
        "  float: The maximum value in the list.\n",
        "  \"\"\"\n",
        "  total = 0\n",
        "  count = 0\n",
        "  for num in n:\n",
        "      total += num\n",
        "      count += 1\n",
        "  return total / count if count > 0 else 0\n",
        "\n",
        "def find_min(n):\n",
        "  \"\"\"\n",
        "  Finds the minimum value in the list of numbers.\n",
        "  Parameters:\n",
        "  n (list): A list of numbers.\n",
        "  Returns:\n",
        "  float: The minimum value in the list.\n",
        "  \"\"\"\n",
        "  max_value = n[0]\n",
        "  for num in n:\n",
        "      if num > max_value:\n",
        "          max_value = num\n",
        "  return max_value\n",
        "\n",
        "\n",
        "\n",
        "\"\"\"\n",
        "  Prompt user for input to perform chosen operation.\n",
        "\"\"\"\n",
        "print(\"Choose the operation to perform: \")\n",
        "print(\"1. Sum \\n 2. Average \\n 3. Maximum \\n 4. Minimum\")\n",
        "choice = input(\"Enter the number of your choice (1-4): \").strip()\n",
        "\n",
        "try:\n",
        "  user = input(\"Enter a list of numbers separated by spaces: \").strip()\n",
        "\n",
        "  #convert string input to list of numbers and convert to float\n",
        "  num = [float(x) for x in user.split()]\n",
        "  if choice == \"1\":\n",
        "    value= find_sum(num)\n",
        "  elif choice == \"2\":\n",
        "    value = find_avg(num)\n",
        "  elif choice == \"3\":\n",
        "    value = find_max(num)\n",
        "  elif choice == \"4\":\n",
        "    value = find_min(num)\n",
        "  else:\n",
        "    print(\"Invalid Input. \")\n",
        "\n",
        "  #Displying the result\n",
        "  print(f\"The result of the operation is: {value}\")\n",
        "\n",
        "except ValueError as e:\n",
        "  print(f\"Error:{e}. Please input a valid number for the value.\")\n",
        "except ZeroDivisionError:\n",
        "  print(\"Error: Division by zero.\")\n",
        "except Exception as e:\n",
        "  print(f\"An error has occurred: {e}\")\n"
      ],
      "metadata": {
        "id": "xktbBPrpEngp",
        "colab": {
          "base_uri": "https://localhost:8080/"
        },
        "outputId": "8a1db164-97f8-4cdb-f385-5e99a706fb64"
      },
      "execution_count": 132,
      "outputs": [
        {
          "output_type": "stream",
          "name": "stdout",
          "text": [
            "Choose the operation to perform: \n",
            "1. Sum \n",
            " 2. Average \n",
            " 3. Maximum \n",
            " 4. Minimum\n",
            "Enter the number of your choice (1-4): 2\n",
            "Enter a list of numbers separated by spaces: 3 3 3 6\n",
            "The result of the operation is: 3.75\n"
          ]
        }
      ]
    },
    {
      "cell_type": "markdown",
      "source": [
        " 4.2 Exercise on List Manipulation:\n",
        " 1. Extract Every Other Element:\n",
        " Write a Python function that extracts every other element from a list, starting from the first element.\n",
        " • Requirements:– Define a function extract\n",
        " every\n",
        " other(lst) that takes a list lst as input and returns a\n",
        " new list containing every other element from the original list.– Example: For the input [1, 2, 3, 4, 5, 6], the output should be [1, 3, 5]"
      ],
      "metadata": {
        "id": "HdC_-pxZCNqo"
      }
    },
    {
      "cell_type": "code",
      "source": [
        "def extract_every_other(lst):\n",
        "  #slicing list starting from 0 index 2 steps\n",
        "  return lst[::2]\n",
        "\n",
        "list=[1,2,3,4,5,6]\n",
        "output = extract_every_other(list)\n",
        "print(output)"
      ],
      "metadata": {
        "colab": {
          "base_uri": "https://localhost:8080/"
        },
        "id": "WXwdb0t_CSuT",
        "outputId": "4a951355-b183-48be-8151-5745dba78041"
      },
      "execution_count": null,
      "outputs": [
        {
          "output_type": "stream",
          "name": "stdout",
          "text": [
            "[1, 3, 5]\n"
          ]
        }
      ]
    },
    {
      "cell_type": "markdown",
      "source": [
        " 2. Slice a Sublist:\n",
        " Write a Python function that returns a sublist from a given list, starting from a specified index and\n",
        " ending at another specified index.\n",
        " • Requirements:– Define a function get\n",
        " sublist(lst, start, end) that takes a list lst, a starting index\n",
        " start, and an ending index end as input and returns the sublist from start to end (inclusive).– Example: For the input [1, 2, 3, 4, 5, 6] with start=2 and end=4, the output should\n",
        " be [3, 4, 5]."
      ],
      "metadata": {
        "id": "BewJsZxnDiFL"
      }
    },
    {
      "cell_type": "code",
      "source": [
        "def sublist(lst,start,end):\n",
        "  return lst[start:end+1]\n",
        "\n",
        "list=[1,2,3,4,5,6]\n",
        "output = sublist(list,2,4)\n",
        "print(output)\n"
      ],
      "metadata": {
        "colab": {
          "base_uri": "https://localhost:8080/"
        },
        "id": "_NUi-a6JDlax",
        "outputId": "ac799569-023c-4261-eb0c-57976a30e8ca"
      },
      "execution_count": null,
      "outputs": [
        {
          "output_type": "stream",
          "name": "stdout",
          "text": [
            "[3, 4, 5]\n"
          ]
        }
      ]
    },
    {
      "cell_type": "markdown",
      "source": [
        " 3. Reverse a List Using Slicing:\n",
        " Write a Python function that reverses a list using slicing.\n",
        " • Requirements:– Define a function reverse\n",
        " slicing.\n",
        " list(lst) that takes a list lst and returns a reversed list using– Example: For the input [1, 2, 3, 4, 5], the output should be [5, 4, 3, 2, 1]"
      ],
      "metadata": {
        "id": "cLkvujVfEDjg"
      }
    },
    {
      "cell_type": "code",
      "source": [
        "def reverse_list(lst):\n",
        "  #using reverse slicing to list\n",
        "  return lst[::-1]\n",
        "list = [1,2,3,4,5]\n",
        "output = reverse_list(list)\n",
        "print(output)"
      ],
      "metadata": {
        "colab": {
          "base_uri": "https://localhost:8080/"
        },
        "id": "5rPKrKYJEIuT",
        "outputId": "3dbb296d-c45a-4d8a-d87b-595e8ab5393f"
      },
      "execution_count": null,
      "outputs": [
        {
          "output_type": "stream",
          "name": "stdout",
          "text": [
            "[5, 4, 3, 2, 1]\n"
          ]
        }
      ]
    },
    {
      "cell_type": "markdown",
      "source": [
        " 4. Remove the First and Last Elements:\n",
        " Write a Python function that removes the first and last elements of a list and returns the resulting\n",
        " sublist.\n",
        " • Requirements:– Defineafunction remove\n",
        " first\n",
        " last(lst) that takes a list lst and returns a sublist without\n",
        " the first and last elements using slicing.– Example: For the input [1, 2, 3, 4, 5], the output should be [2, 3, 4]"
      ],
      "metadata": {
        "id": "R0ReyctpEjLZ"
      }
    },
    {
      "cell_type": "code",
      "source": [
        "def remove_first_last(lst):\n",
        "  return lst[1:-1]\n",
        "\n",
        "list = [1,2,3,4,5]\n",
        "output = remove_first_last(list)\n",
        "print(output)\n"
      ],
      "metadata": {
        "colab": {
          "base_uri": "https://localhost:8080/"
        },
        "id": "9MhLJ131EmxC",
        "outputId": "fa186a95-f44e-453e-b655-0a96e138e805"
      },
      "execution_count": null,
      "outputs": [
        {
          "output_type": "stream",
          "name": "stdout",
          "text": [
            "[2, 3, 4]\n"
          ]
        }
      ]
    },
    {
      "cell_type": "markdown",
      "source": [
        "5. Get the First n Elements:\n",
        " Write a Python function that extracts the first n elements from a list.\n",
        " • Requirements:– Define a function get\n",
        " first\n",
        " n(lst, n) that takes a list lst and an integer n as input and\n",
        " returns the first n elements of the list using slicing.– Example: For the input [1, 2, 3, 4, 5] with n=3, the output should be [1, 2, 3]."
      ],
      "metadata": {
        "id": "4PWqYbCoGQX8"
      }
    },
    {
      "cell_type": "code",
      "source": [
        "def get_first_n(lst,n):\n",
        "  return lst[:n]\n",
        "\n",
        "list = [1,2,3,4,5]\n",
        "output = get_first_n(list,3)\n",
        "print(output)\n"
      ],
      "metadata": {
        "colab": {
          "base_uri": "https://localhost:8080/"
        },
        "id": "fxxlONgFGT7E",
        "outputId": "af25939d-2e14-42a5-9674-0ef7b6e24681"
      },
      "execution_count": null,
      "outputs": [
        {
          "output_type": "stream",
          "name": "stdout",
          "text": [
            "[1, 2, 3]\n"
          ]
        }
      ]
    },
    {
      "cell_type": "markdown",
      "source": [
        " 6. Extract Elements from the End:\n",
        " Write a Python function that extracts the last n elements of a list using slicing.\n",
        " • Requirements:– Define a function get\n",
        " last\n",
        " n(lst, n) that takes a list lst and an integer n as input and\n",
        " returns the last n elements of the list.– Example: For the input [1, 2, 3, 4, 5] with n=2, the output should be [4, 5]."
      ],
      "metadata": {
        "id": "YSJUNuP9HBQV"
      }
    },
    {
      "cell_type": "code",
      "source": [
        "def get_last_n(lst,n):\n",
        "  return lst[-n:]\n",
        "\n",
        "list = [1,2,3,4,5]\n",
        "output = get_last_n(list,2)\n",
        "print(output)\n"
      ],
      "metadata": {
        "colab": {
          "base_uri": "https://localhost:8080/"
        },
        "id": "61cJgyF7HB7J",
        "outputId": "85a7c198-eefe-4df5-fcab-e225f2207c7b"
      },
      "execution_count": null,
      "outputs": [
        {
          "output_type": "stream",
          "name": "stdout",
          "text": [
            "[4, 5]\n"
          ]
        }
      ]
    },
    {
      "cell_type": "markdown",
      "source": [
        "7. Extract Elements in Reverse Order:\n",
        " Write a Python function that extracts a list of elements in reverse order starting from the second-to-last\n",
        " element and skipping one element in between.\n",
        " • Requirements:– Define a function reverse\n",
        " skip(lst) that takes a list lst and returns a new list containing\n",
        " every second element starting from the second-to-last, moving backward.– Example: For the input [1, 2, 3, 4, 5, 6], the output should be [5, 3, 1]"
      ],
      "metadata": {
        "id": "i7VmSzjkHQlp"
      }
    },
    {
      "cell_type": "code",
      "source": [
        "def reverse_skip(lst):\n",
        "  #start from second_to_last containing every second element moving backward\n",
        "  return lst[-2::-2]\n",
        "\n",
        "list = [1,2,3,4,5,6]\n",
        "output = reverse_skip(list)\n",
        "print(output)"
      ],
      "metadata": {
        "colab": {
          "base_uri": "https://localhost:8080/"
        },
        "id": "oECFgaziHSj3",
        "outputId": "fbaf8117-b65b-4c30-d905-d41584fa2fc3"
      },
      "execution_count": null,
      "outputs": [
        {
          "output_type": "stream",
          "name": "stdout",
          "text": [
            "[5, 3, 1]\n"
          ]
        }
      ]
    },
    {
      "cell_type": "markdown",
      "source": [
        " 4.3 Exercise on Nested List"
      ],
      "metadata": {
        "id": "2kaeyHJ2H42f"
      }
    },
    {
      "cell_type": "markdown",
      "source": [
        " 1. Flatten a Nested List:\n",
        " Write a Python function that takes a nested list and flattens it into a single list, where all the elements\n",
        " are in a single dimension.\n",
        " • Requirements:– Define a function flatten(lst) that takes a nested list lst and returns a flattened version\n",
        " of the list.– Example: For the input [[1, 2], [3, 4], [5]], the output should be [1, 2, 3, 4, 5]"
      ],
      "metadata": {
        "id": "HzoS1gFRH5uV"
      }
    },
    {
      "cell_type": "code",
      "source": [
        "def flatten(lst):\n",
        "  #list comprehension\n",
        "  return [i for sublist in lst for i in sublist]\n",
        "\n",
        "input=[[1,2],[3,4],[5]]\n",
        "output=flatten(input)\n",
        "print(output)"
      ],
      "metadata": {
        "colab": {
          "base_uri": "https://localhost:8080/"
        },
        "id": "CfeAONhtH87K",
        "outputId": "fed871fd-e50d-42a2-fd1f-8e74191eac2f"
      },
      "execution_count": null,
      "outputs": [
        {
          "output_type": "stream",
          "name": "stdout",
          "text": [
            "[1, 2, 3, 4, 5]\n"
          ]
        }
      ]
    },
    {
      "cell_type": "markdown",
      "source": [
        " 2. Accessing Nested List Elements:\n",
        " Write a Python function that extracts a specific element from a nested list given its indices.\n",
        " • Requirements:– Define a function access\n",
        " nested\n",
        " element(lst, indices) that takes a nested list lst and\n",
        " a list of indices indices, and returns the element at that position.– Example: For the input lst = [[1, 2, 3], [4, 5, 6], [7, 8, 9]] with indices = [1,\n",
        " 2], the output should be 6"
      ],
      "metadata": {
        "id": "vjM81jGUIolC"
      }
    },
    {
      "cell_type": "code",
      "source": [
        "def access_nested_element(lst,idices):\n",
        "  for i in idices:\n",
        "    lst = lst[i]\n",
        "  return lst\n",
        "input_lst= [[1, 2, 3], [4, 5, 6], [7, 8, 9]]\n",
        "output=access_nested_element(input_lst,[1,2])\n",
        "print(output)"
      ],
      "metadata": {
        "colab": {
          "base_uri": "https://localhost:8080/"
        },
        "id": "vPFpXZp4IpHn",
        "outputId": "a738686c-cb1e-4747-8449-5b22672103b9"
      },
      "execution_count": null,
      "outputs": [
        {
          "output_type": "stream",
          "name": "stdout",
          "text": [
            "6\n"
          ]
        }
      ]
    },
    {
      "cell_type": "markdown",
      "source": [
        " 3. Sum of All Elements in a Nested List:\n",
        " Write a Python function that calculates the sum of all the numbers in a nested list (regardless of depth).\n",
        " • Requirements:– Define a function sum\n",
        " nested(lst) that takes a nested list lst and returns the sum of all\n",
        " the elements.– Example: For the input [[1, 2], [3, [4, 5]], 6], the output should be 21"
      ],
      "metadata": {
        "id": "g88T5theK50i"
      }
    },
    {
      "cell_type": "code",
      "source": [
        "def sum_nested(lst):\n",
        "    total = 0\n",
        "    for item in lst:\n",
        "        if isinstance(item, list):  # Check if the item is a list\n",
        "            total += sum_nested(item)  # Recursively sum the nested list\n",
        "        else:\n",
        "            total += item  # If it's an integer, add it to the total\n",
        "    return total\n",
        "\n",
        "# Example usage\n",
        "nested_list = [[1, 2], [3, [4, 5]], 6]\n",
        "result = sum_nested(nested_list)\n",
        "print(result)  # Output: 21\n"
      ],
      "metadata": {
        "colab": {
          "base_uri": "https://localhost:8080/",
          "height": 315
        },
        "id": "mHusfU6tK6qJ",
        "outputId": "644e22f7-6480-4a6e-dc4e-c643d8e3aa42"
      },
      "execution_count": null,
      "outputs": [
        {
          "output_type": "error",
          "ename": "TypeError",
          "evalue": "isinstance() arg 2 must be a type, a tuple of types, or a union",
          "traceback": [
            "\u001b[0;31m---------------------------------------------------------------------------\u001b[0m",
            "\u001b[0;31mTypeError\u001b[0m                                 Traceback (most recent call last)",
            "\u001b[0;32m<ipython-input-36-cc39c499df2b>\u001b[0m in \u001b[0;36m<cell line: 0>\u001b[0;34m()\u001b[0m\n\u001b[1;32m     10\u001b[0m \u001b[0;31m# Example usage\u001b[0m\u001b[0;34m\u001b[0m\u001b[0;34m\u001b[0m\u001b[0m\n\u001b[1;32m     11\u001b[0m \u001b[0mnested_list\u001b[0m \u001b[0;34m=\u001b[0m \u001b[0;34m[\u001b[0m\u001b[0;34m[\u001b[0m\u001b[0;36m1\u001b[0m\u001b[0;34m,\u001b[0m \u001b[0;36m2\u001b[0m\u001b[0;34m]\u001b[0m\u001b[0;34m,\u001b[0m \u001b[0;34m[\u001b[0m\u001b[0;36m3\u001b[0m\u001b[0;34m,\u001b[0m \u001b[0;34m[\u001b[0m\u001b[0;36m4\u001b[0m\u001b[0;34m,\u001b[0m \u001b[0;36m5\u001b[0m\u001b[0;34m]\u001b[0m\u001b[0;34m]\u001b[0m\u001b[0;34m,\u001b[0m \u001b[0;36m6\u001b[0m\u001b[0;34m]\u001b[0m\u001b[0;34m\u001b[0m\u001b[0;34m\u001b[0m\u001b[0m\n\u001b[0;32m---> 12\u001b[0;31m \u001b[0mresult\u001b[0m \u001b[0;34m=\u001b[0m \u001b[0msum_nested\u001b[0m\u001b[0;34m(\u001b[0m\u001b[0mnested_list\u001b[0m\u001b[0;34m)\u001b[0m\u001b[0;34m\u001b[0m\u001b[0;34m\u001b[0m\u001b[0m\n\u001b[0m\u001b[1;32m     13\u001b[0m \u001b[0mprint\u001b[0m\u001b[0;34m(\u001b[0m\u001b[0mresult\u001b[0m\u001b[0;34m)\u001b[0m  \u001b[0;31m# Output: 21\u001b[0m\u001b[0;34m\u001b[0m\u001b[0;34m\u001b[0m\u001b[0m\n",
            "\u001b[0;32m<ipython-input-36-cc39c499df2b>\u001b[0m in \u001b[0;36msum_nested\u001b[0;34m(lst)\u001b[0m\n\u001b[1;32m      2\u001b[0m     \u001b[0mtotal\u001b[0m \u001b[0;34m=\u001b[0m \u001b[0;36m0\u001b[0m\u001b[0;34m\u001b[0m\u001b[0;34m\u001b[0m\u001b[0m\n\u001b[1;32m      3\u001b[0m     \u001b[0;32mfor\u001b[0m \u001b[0mitem\u001b[0m \u001b[0;32min\u001b[0m \u001b[0mlst\u001b[0m\u001b[0;34m:\u001b[0m\u001b[0;34m\u001b[0m\u001b[0;34m\u001b[0m\u001b[0m\n\u001b[0;32m----> 4\u001b[0;31m         \u001b[0;32mif\u001b[0m \u001b[0misinstance\u001b[0m\u001b[0;34m(\u001b[0m\u001b[0mitem\u001b[0m\u001b[0;34m,\u001b[0m \u001b[0mlist\u001b[0m\u001b[0;34m)\u001b[0m\u001b[0;34m:\u001b[0m  \u001b[0;31m# Check if the item is a list\u001b[0m\u001b[0;34m\u001b[0m\u001b[0;34m\u001b[0m\u001b[0m\n\u001b[0m\u001b[1;32m      5\u001b[0m             \u001b[0mtotal\u001b[0m \u001b[0;34m+=\u001b[0m \u001b[0msum_nested\u001b[0m\u001b[0;34m(\u001b[0m\u001b[0mitem\u001b[0m\u001b[0;34m)\u001b[0m  \u001b[0;31m# Recursively sum the nested list\u001b[0m\u001b[0;34m\u001b[0m\u001b[0;34m\u001b[0m\u001b[0m\n\u001b[1;32m      6\u001b[0m         \u001b[0;32melse\u001b[0m\u001b[0;34m:\u001b[0m\u001b[0;34m\u001b[0m\u001b[0;34m\u001b[0m\u001b[0m\n",
            "\u001b[0;31mTypeError\u001b[0m: isinstance() arg 2 must be a type, a tuple of types, or a union"
          ]
        }
      ]
    },
    {
      "cell_type": "markdown",
      "source": [
        " 4. Remove Specific Element from a Nested List:\n",
        " Write a Python function that removes all occurrences of a specific element from a nested list.\n",
        " • Requirements:– Define a function remove\n",
        " element(lst, elem) that removes elem from lst and returns the\n",
        " modified list.– Example: Fortheinput lst = [[1, 2], [3, 2], [4, 5]]andelem = 2,theoutputshould\n",
        " be [[1], [3], [4, 5]]"
      ],
      "metadata": {
        "id": "qIrL1ufDLZ5e"
      }
    },
    {
      "cell_type": "code",
      "source": [
        "def remove_element(lst,elem):\n",
        "  for i in lst:\n",
        "    while elem in i:\n",
        "      i.remove(elem)\n",
        "  return lst\n",
        "\n",
        "input_lst = [[1, 2], [3, 2], [4, 5]]\n",
        "output=remove_element(input_lst,2)\n",
        "print(output)\n",
        "\n",
        "\n"
      ],
      "metadata": {
        "colab": {
          "base_uri": "https://localhost:8080/"
        },
        "id": "CCxmc5BDLcgJ",
        "outputId": "3faff438-25f5-488b-a2cc-4969e62bffaf"
      },
      "execution_count": null,
      "outputs": [
        {
          "output_type": "stream",
          "name": "stdout",
          "text": [
            "[[1], [3], [4, 5]]\n"
          ]
        }
      ]
    },
    {
      "cell_type": "markdown",
      "source": [
        " 5. Find the Maximum Element in a Nested List:\n",
        " Write a Python function that finds the maximum element in a nested list (regardless of depth).\n",
        " • Requirements:– Define a function find\n",
        " element.\n",
        " max(lst) that takes a nested list lst and returns the maximum– Example: For the input [[1, 2], [3, [4, 5]], 6], the output should be 6."
      ],
      "metadata": {
        "id": "bcEYg_MULzjt"
      }
    },
    {
      "cell_type": "code",
      "source": [
        "def find_max(lst):\n",
        "  for item in lst:\n",
        "    if isinstance(item, list):\n",
        "      max_value = max(max_value, find_max(item))\n",
        "    else:\n",
        "        max_value = max(max_value, item)  # Otherwise, compare the item with max_value\n",
        "  return max_value\n",
        "nested_list = [[1, 2], [3, [4, 5]], 6]\n",
        "result = find_max(nested_list)\n",
        "print(result)"
      ],
      "metadata": {
        "colab": {
          "base_uri": "https://localhost:8080/",
          "height": 315
        },
        "id": "bMJHO-lhMXWg",
        "outputId": "a8b1e272-32d4-47c7-85a7-7bf37bd1a687"
      },
      "execution_count": null,
      "outputs": [
        {
          "output_type": "error",
          "ename": "TypeError",
          "evalue": "isinstance() arg 2 must be a type, a tuple of types, or a union",
          "traceback": [
            "\u001b[0;31m---------------------------------------------------------------------------\u001b[0m",
            "\u001b[0;31mTypeError\u001b[0m                                 Traceback (most recent call last)",
            "\u001b[0;32m<ipython-input-38-e5451a09229a>\u001b[0m in \u001b[0;36m<cell line: 0>\u001b[0;34m()\u001b[0m\n\u001b[1;32m      7\u001b[0m   \u001b[0;32mreturn\u001b[0m \u001b[0mmax_value\u001b[0m\u001b[0;34m\u001b[0m\u001b[0;34m\u001b[0m\u001b[0m\n\u001b[1;32m      8\u001b[0m \u001b[0mnested_list\u001b[0m \u001b[0;34m=\u001b[0m \u001b[0;34m[\u001b[0m\u001b[0;34m[\u001b[0m\u001b[0;36m1\u001b[0m\u001b[0;34m,\u001b[0m \u001b[0;36m2\u001b[0m\u001b[0;34m]\u001b[0m\u001b[0;34m,\u001b[0m \u001b[0;34m[\u001b[0m\u001b[0;36m3\u001b[0m\u001b[0;34m,\u001b[0m \u001b[0;34m[\u001b[0m\u001b[0;36m4\u001b[0m\u001b[0;34m,\u001b[0m \u001b[0;36m5\u001b[0m\u001b[0;34m]\u001b[0m\u001b[0;34m]\u001b[0m\u001b[0;34m,\u001b[0m \u001b[0;36m6\u001b[0m\u001b[0;34m]\u001b[0m\u001b[0;34m\u001b[0m\u001b[0;34m\u001b[0m\u001b[0m\n\u001b[0;32m----> 9\u001b[0;31m \u001b[0mresult\u001b[0m \u001b[0;34m=\u001b[0m \u001b[0mfind_max\u001b[0m\u001b[0;34m(\u001b[0m\u001b[0mnested_list\u001b[0m\u001b[0;34m)\u001b[0m\u001b[0;34m\u001b[0m\u001b[0;34m\u001b[0m\u001b[0m\n\u001b[0m\u001b[1;32m     10\u001b[0m \u001b[0mprint\u001b[0m\u001b[0;34m(\u001b[0m\u001b[0mresult\u001b[0m\u001b[0;34m)\u001b[0m\u001b[0;34m\u001b[0m\u001b[0;34m\u001b[0m\u001b[0m\n",
            "\u001b[0;32m<ipython-input-38-e5451a09229a>\u001b[0m in \u001b[0;36mfind_max\u001b[0;34m(lst)\u001b[0m\n\u001b[1;32m      1\u001b[0m \u001b[0;32mdef\u001b[0m \u001b[0mfind_max\u001b[0m\u001b[0;34m(\u001b[0m\u001b[0mlst\u001b[0m\u001b[0;34m)\u001b[0m\u001b[0;34m:\u001b[0m\u001b[0;34m\u001b[0m\u001b[0;34m\u001b[0m\u001b[0m\n\u001b[1;32m      2\u001b[0m   \u001b[0;32mfor\u001b[0m \u001b[0mitem\u001b[0m \u001b[0;32min\u001b[0m \u001b[0mlst\u001b[0m\u001b[0;34m:\u001b[0m\u001b[0;34m\u001b[0m\u001b[0;34m\u001b[0m\u001b[0m\n\u001b[0;32m----> 3\u001b[0;31m     \u001b[0;32mif\u001b[0m \u001b[0misinstance\u001b[0m\u001b[0;34m(\u001b[0m\u001b[0mitem\u001b[0m\u001b[0;34m,\u001b[0m \u001b[0mlist\u001b[0m\u001b[0;34m)\u001b[0m\u001b[0;34m:\u001b[0m\u001b[0;34m\u001b[0m\u001b[0;34m\u001b[0m\u001b[0m\n\u001b[0m\u001b[1;32m      4\u001b[0m       \u001b[0mmax_value\u001b[0m \u001b[0;34m=\u001b[0m \u001b[0mmax\u001b[0m\u001b[0;34m(\u001b[0m\u001b[0mmax_value\u001b[0m\u001b[0;34m,\u001b[0m \u001b[0mfind_max\u001b[0m\u001b[0;34m(\u001b[0m\u001b[0mitem\u001b[0m\u001b[0;34m)\u001b[0m\u001b[0;34m)\u001b[0m\u001b[0;34m\u001b[0m\u001b[0;34m\u001b[0m\u001b[0m\n\u001b[1;32m      5\u001b[0m     \u001b[0;32melse\u001b[0m\u001b[0;34m:\u001b[0m\u001b[0;34m\u001b[0m\u001b[0;34m\u001b[0m\u001b[0m\n",
            "\u001b[0;31mTypeError\u001b[0m: isinstance() arg 2 must be a type, a tuple of types, or a union"
          ]
        }
      ]
    },
    {
      "cell_type": "markdown",
      "source": [
        " 6. Count Occurrences of an Element in a Nested List:\n",
        " Write a Python function that counts how many times a specific element appears in a nested list.\n",
        " • Requirements:– Define a function count\n",
        " occurrences(lst, elem) that counts the occurrences of elem in\n",
        " the nested list lst.– Example: Fortheinput lst = [[1, 2], [2, 3], [2, 4]]andelem = 2,theoutputshould\n",
        " be 3."
      ],
      "metadata": {
        "id": "LZ_AJrloT0El"
      }
    },
    {
      "cell_type": "code",
      "source": [
        "def count_occurrences(lst, elem):\n",
        "    count = 0\n",
        "    for item in lst:\n",
        "        if isinstance(item, list):  # Check if the item is a list\n",
        "            count += count_occurrences(item, elem)  # Recursively count in sublist\n",
        "        else:\n",
        "            if item == elem:  # If the item is equal to the element we're looking for\n",
        "                count += 1\n",
        "    return count\n",
        "\n",
        "# Example usage\n",
        "nested_list = [[1, 2], [2, 3], [2, 4]]\n",
        "element_to_count = 2\n",
        "result = count_occurrences(nested_list, element_to_count)\n",
        "print(result)  # Output: 3\n"
      ],
      "metadata": {
        "colab": {
          "base_uri": "https://localhost:8080/",
          "height": 315
        },
        "id": "tf5K-2CbUCAn",
        "outputId": "e639eaf0-3a75-41e8-f590-b225e28787e8"
      },
      "execution_count": null,
      "outputs": [
        {
          "output_type": "error",
          "ename": "TypeError",
          "evalue": "isinstance() arg 2 must be a type, a tuple of types, or a union",
          "traceback": [
            "\u001b[0;31m---------------------------------------------------------------------------\u001b[0m",
            "\u001b[0;31mTypeError\u001b[0m                                 Traceback (most recent call last)",
            "\u001b[0;32m<ipython-input-42-846346b9f4dc>\u001b[0m in \u001b[0;36m<cell line: 0>\u001b[0;34m()\u001b[0m\n\u001b[1;32m     12\u001b[0m \u001b[0mnested_list\u001b[0m \u001b[0;34m=\u001b[0m \u001b[0;34m[\u001b[0m\u001b[0;34m[\u001b[0m\u001b[0;36m1\u001b[0m\u001b[0;34m,\u001b[0m \u001b[0;36m2\u001b[0m\u001b[0;34m]\u001b[0m\u001b[0;34m,\u001b[0m \u001b[0;34m[\u001b[0m\u001b[0;36m2\u001b[0m\u001b[0;34m,\u001b[0m \u001b[0;36m3\u001b[0m\u001b[0;34m]\u001b[0m\u001b[0;34m,\u001b[0m \u001b[0;34m[\u001b[0m\u001b[0;36m2\u001b[0m\u001b[0;34m,\u001b[0m \u001b[0;36m4\u001b[0m\u001b[0;34m]\u001b[0m\u001b[0;34m]\u001b[0m\u001b[0;34m\u001b[0m\u001b[0;34m\u001b[0m\u001b[0m\n\u001b[1;32m     13\u001b[0m \u001b[0melement_to_count\u001b[0m \u001b[0;34m=\u001b[0m \u001b[0;36m2\u001b[0m\u001b[0;34m\u001b[0m\u001b[0;34m\u001b[0m\u001b[0m\n\u001b[0;32m---> 14\u001b[0;31m \u001b[0mresult\u001b[0m \u001b[0;34m=\u001b[0m \u001b[0mcount_occurrences\u001b[0m\u001b[0;34m(\u001b[0m\u001b[0mnested_list\u001b[0m\u001b[0;34m,\u001b[0m \u001b[0melement_to_count\u001b[0m\u001b[0;34m)\u001b[0m\u001b[0;34m\u001b[0m\u001b[0;34m\u001b[0m\u001b[0m\n\u001b[0m\u001b[1;32m     15\u001b[0m \u001b[0mprint\u001b[0m\u001b[0;34m(\u001b[0m\u001b[0mresult\u001b[0m\u001b[0;34m)\u001b[0m  \u001b[0;31m# Output: 3\u001b[0m\u001b[0;34m\u001b[0m\u001b[0;34m\u001b[0m\u001b[0m\n",
            "\u001b[0;32m<ipython-input-42-846346b9f4dc>\u001b[0m in \u001b[0;36mcount_occurrences\u001b[0;34m(lst, elem)\u001b[0m\n\u001b[1;32m      2\u001b[0m     \u001b[0mcount\u001b[0m \u001b[0;34m=\u001b[0m \u001b[0;36m0\u001b[0m\u001b[0;34m\u001b[0m\u001b[0;34m\u001b[0m\u001b[0m\n\u001b[1;32m      3\u001b[0m     \u001b[0;32mfor\u001b[0m \u001b[0mitem\u001b[0m \u001b[0;32min\u001b[0m \u001b[0mlst\u001b[0m\u001b[0;34m:\u001b[0m\u001b[0;34m\u001b[0m\u001b[0;34m\u001b[0m\u001b[0m\n\u001b[0;32m----> 4\u001b[0;31m         \u001b[0;32mif\u001b[0m \u001b[0misinstance\u001b[0m\u001b[0;34m(\u001b[0m\u001b[0mitem\u001b[0m\u001b[0;34m,\u001b[0m \u001b[0mlist\u001b[0m\u001b[0;34m)\u001b[0m\u001b[0;34m:\u001b[0m  \u001b[0;31m# Check if the item is a list\u001b[0m\u001b[0;34m\u001b[0m\u001b[0;34m\u001b[0m\u001b[0m\n\u001b[0m\u001b[1;32m      5\u001b[0m             \u001b[0mcount\u001b[0m \u001b[0;34m+=\u001b[0m \u001b[0mcount_occurrences\u001b[0m\u001b[0;34m(\u001b[0m\u001b[0mitem\u001b[0m\u001b[0;34m,\u001b[0m \u001b[0melem\u001b[0m\u001b[0;34m)\u001b[0m  \u001b[0;31m# Recursively count in sublist\u001b[0m\u001b[0;34m\u001b[0m\u001b[0;34m\u001b[0m\u001b[0m\n\u001b[1;32m      6\u001b[0m         \u001b[0;32melse\u001b[0m\u001b[0;34m:\u001b[0m\u001b[0;34m\u001b[0m\u001b[0;34m\u001b[0m\u001b[0m\n",
            "\u001b[0;31mTypeError\u001b[0m: isinstance() arg 2 must be a type, a tuple of types, or a union"
          ]
        }
      ]
    },
    {
      "cell_type": "markdown",
      "source": [
        " 7. Flatten a List of Lists of Lists:\n",
        " Write a Python function that flattens a list of lists of lists into a single list, regardless of the depth.\n",
        " • Requirements:– Define a function deep\n",
        " flatten(lst) that takes a deeply nested list lst and returns a single\n",
        " f\n",
        " lattened list.– Example: For the input [[[1, 2], [3, 4]], [[5, 6], [7, 8]]], the output should be\n",
        " [1, 2, 3, 4, 5, 6, 7, 8]."
      ],
      "metadata": {
        "id": "RiC6PUhLUlS6"
      }
    },
    {
      "cell_type": "code",
      "source": [
        "def deep_flatten(lst):\n",
        "    flattened = []\n",
        "    for item in lst:\n",
        "        if isinstance(item, list):\n",
        "            flattened.extend(deep_flatten(item))\n",
        "        else:\n",
        "            flattened.append(item)\n",
        "    return flattened\n",
        "input = [[[1, 2], [3, 4]], [[5, 6], [7, 8]]]\n",
        "output = deep_flatten(input)\n",
        "print(output)"
      ],
      "metadata": {
        "colab": {
          "base_uri": "https://localhost:8080/",
          "height": 315
        },
        "id": "pVr1A2BUUnUk",
        "outputId": "182e98de-2446-4089-ee88-8e52f6e5ee39"
      },
      "execution_count": null,
      "outputs": [
        {
          "output_type": "error",
          "ename": "TypeError",
          "evalue": "isinstance() arg 2 must be a type, a tuple of types, or a union",
          "traceback": [
            "\u001b[0;31m---------------------------------------------------------------------------\u001b[0m",
            "\u001b[0;31mTypeError\u001b[0m                                 Traceback (most recent call last)",
            "\u001b[0;32m<ipython-input-47-da5af6ce0150>\u001b[0m in \u001b[0;36m<cell line: 0>\u001b[0;34m()\u001b[0m\n\u001b[1;32m      8\u001b[0m     \u001b[0;32mreturn\u001b[0m \u001b[0mflattened\u001b[0m\u001b[0;34m\u001b[0m\u001b[0;34m\u001b[0m\u001b[0m\n\u001b[1;32m      9\u001b[0m \u001b[0minput\u001b[0m \u001b[0;34m=\u001b[0m \u001b[0;34m[\u001b[0m\u001b[0;34m[\u001b[0m\u001b[0;34m[\u001b[0m\u001b[0;36m1\u001b[0m\u001b[0;34m,\u001b[0m \u001b[0;36m2\u001b[0m\u001b[0;34m]\u001b[0m\u001b[0;34m,\u001b[0m \u001b[0;34m[\u001b[0m\u001b[0;36m3\u001b[0m\u001b[0;34m,\u001b[0m \u001b[0;36m4\u001b[0m\u001b[0;34m]\u001b[0m\u001b[0;34m]\u001b[0m\u001b[0;34m,\u001b[0m \u001b[0;34m[\u001b[0m\u001b[0;34m[\u001b[0m\u001b[0;36m5\u001b[0m\u001b[0;34m,\u001b[0m \u001b[0;36m6\u001b[0m\u001b[0;34m]\u001b[0m\u001b[0;34m,\u001b[0m \u001b[0;34m[\u001b[0m\u001b[0;36m7\u001b[0m\u001b[0;34m,\u001b[0m \u001b[0;36m8\u001b[0m\u001b[0;34m]\u001b[0m\u001b[0;34m]\u001b[0m\u001b[0;34m]\u001b[0m\u001b[0;34m\u001b[0m\u001b[0;34m\u001b[0m\u001b[0m\n\u001b[0;32m---> 10\u001b[0;31m \u001b[0moutput\u001b[0m \u001b[0;34m=\u001b[0m \u001b[0mdeep_flatten\u001b[0m\u001b[0;34m(\u001b[0m\u001b[0minput\u001b[0m\u001b[0;34m)\u001b[0m\u001b[0;34m\u001b[0m\u001b[0;34m\u001b[0m\u001b[0m\n\u001b[0m\u001b[1;32m     11\u001b[0m \u001b[0mprint\u001b[0m\u001b[0;34m(\u001b[0m\u001b[0moutput\u001b[0m\u001b[0;34m)\u001b[0m\u001b[0;34m\u001b[0m\u001b[0;34m\u001b[0m\u001b[0m\n",
            "\u001b[0;32m<ipython-input-47-da5af6ce0150>\u001b[0m in \u001b[0;36mdeep_flatten\u001b[0;34m(lst)\u001b[0m\n\u001b[1;32m      2\u001b[0m     \u001b[0mflattened\u001b[0m \u001b[0;34m=\u001b[0m \u001b[0;34m[\u001b[0m\u001b[0;34m]\u001b[0m\u001b[0;34m\u001b[0m\u001b[0;34m\u001b[0m\u001b[0m\n\u001b[1;32m      3\u001b[0m     \u001b[0;32mfor\u001b[0m \u001b[0mitem\u001b[0m \u001b[0;32min\u001b[0m \u001b[0mlst\u001b[0m\u001b[0;34m:\u001b[0m\u001b[0;34m\u001b[0m\u001b[0;34m\u001b[0m\u001b[0m\n\u001b[0;32m----> 4\u001b[0;31m         \u001b[0;32mif\u001b[0m \u001b[0misinstance\u001b[0m\u001b[0;34m(\u001b[0m\u001b[0mitem\u001b[0m\u001b[0;34m,\u001b[0m \u001b[0mlist\u001b[0m\u001b[0;34m)\u001b[0m\u001b[0;34m:\u001b[0m\u001b[0;34m\u001b[0m\u001b[0;34m\u001b[0m\u001b[0m\n\u001b[0m\u001b[1;32m      5\u001b[0m             \u001b[0mflattened\u001b[0m\u001b[0;34m.\u001b[0m\u001b[0mextend\u001b[0m\u001b[0;34m(\u001b[0m\u001b[0mdeep_flatten\u001b[0m\u001b[0;34m(\u001b[0m\u001b[0mitem\u001b[0m\u001b[0;34m)\u001b[0m\u001b[0;34m)\u001b[0m\u001b[0;34m\u001b[0m\u001b[0;34m\u001b[0m\u001b[0m\n\u001b[1;32m      6\u001b[0m         \u001b[0;32melse\u001b[0m\u001b[0;34m:\u001b[0m\u001b[0;34m\u001b[0m\u001b[0;34m\u001b[0m\u001b[0m\n",
            "\u001b[0;31mTypeError\u001b[0m: isinstance() arg 2 must be a type, a tuple of types, or a union"
          ]
        }
      ]
    },
    {
      "cell_type": "markdown",
      "source": [
        " 8. Nested List Average:\n",
        " Write a Python function that calculates the average of all elements in a nested list.\n",
        " • Requirements:– Define a function average\n",
        " of all the elements.\n",
        " nested(lst) that takes a nested list lst and returns the average– Example: For the input [[1, 2], [3, 4], [5, 6]], the output should be 3.5"
      ],
      "metadata": {
        "id": "jaIBYXDZVYPj"
      }
    },
    {
      "cell_type": "code",
      "source": [
        "def average_of_all_elements_nested(lst):\n",
        "    # Flatten the nested list first\n",
        "    def deep_flatten(lst):\n",
        "        flattened\n"
      ],
      "metadata": {
        "id": "HGXNdLjjVayp"
      },
      "execution_count": null,
      "outputs": []
    },
    {
      "cell_type": "markdown",
      "source": [
        " 10 To- Do- NumPy\n",
        " Please complete all the problems listed below:"
      ],
      "metadata": {
        "id": "6UeUOMFSeBsk"
      }
    },
    {
      "cell_type": "markdown",
      "source": [
        " 10.1 Basic Vector and Matrix Operation with Numpy."
      ],
      "metadata": {
        "id": "sLb6OZT6eC0L"
      }
    },
    {
      "cell_type": "markdown",
      "source": [
        "Problem- 1: Array Creation:\n",
        " Complete the following Tasks:\n",
        " 1. Initialize an empty array with size 2X2.\n"
      ],
      "metadata": {
        "id": "NSrnggEteF4K"
      }
    },
    {
      "cell_type": "code",
      "source": [
        "import numpy as np\n",
        "#storing none python object to create empty array\n",
        "emptyarr = np.empty((2, 2),dtype=object)\n",
        "print(emptyarr)"
      ],
      "metadata": {
        "colab": {
          "base_uri": "https://localhost:8080/"
        },
        "id": "BPzjAtSveIWK",
        "outputId": "13fb3046-f8fb-43de-9f4a-ae36582c4633"
      },
      "execution_count": 5,
      "outputs": [
        {
          "output_type": "stream",
          "name": "stdout",
          "text": [
            "[[None None]\n",
            " [None None]]\n"
          ]
        }
      ]
    },
    {
      "cell_type": "markdown",
      "source": [
        " 2. Initialize an all one array with size 4X2.\n",
        "\n"
      ],
      "metadata": {
        "id": "52iKNmwEfwzq"
      }
    },
    {
      "cell_type": "code",
      "source": [
        "one_arr= np.ones((3,2))\n",
        "print(one_arr)"
      ],
      "metadata": {
        "colab": {
          "base_uri": "https://localhost:8080/"
        },
        "id": "7LsaZA88fE7E",
        "outputId": "85242f5b-7e15-482b-e1cc-d4021ffe0c0d"
      },
      "execution_count": 7,
      "outputs": [
        {
          "output_type": "stream",
          "name": "stdout",
          "text": [
            "[[1. 1.]\n",
            " [1. 1.]\n",
            " [1. 1.]]\n"
          ]
        }
      ]
    },
    {
      "cell_type": "markdown",
      "source": [
        " 3. Return a new array of given shape and type, filled with fill value.{Hint: np.full}\n",
        ""
      ],
      "metadata": {
        "id": "W_wjyyVzf4w6"
      }
    },
    {
      "cell_type": "code",
      "source": [
        "#full function with shape and filled with fill value(13)\n",
        "fill_arr=np.full((4,2),13)\n",
        "print(fill_arr)\n"
      ],
      "metadata": {
        "colab": {
          "base_uri": "https://localhost:8080/"
        },
        "id": "oMHzSbjIf7Am",
        "outputId": "ec85df9b-43c0-45c4-9fbd-908fd828b271"
      },
      "execution_count": 12,
      "outputs": [
        {
          "output_type": "stream",
          "name": "stdout",
          "text": [
            "[[13 13]\n",
            " [13 13]\n",
            " [13 13]\n",
            " [13 13]]\n"
          ]
        }
      ]
    },
    {
      "cell_type": "markdown",
      "source": [
        "4. Return a new array of zeros with same shape and type as a given array.{Hint: np.zeros like}\n"
      ],
      "metadata": {
        "id": "II9rDY2Nf7cZ"
      }
    },
    {
      "cell_type": "code",
      "source": [
        "#creating same shape and type of array as before but values filled with zero\n",
        "zero_arr=np.zeros_like(fill_arr)\n",
        "print(zero_arr)"
      ],
      "metadata": {
        "colab": {
          "base_uri": "https://localhost:8080/"
        },
        "id": "69_RqF5Df9v4",
        "outputId": "3e1ab22f-8dbb-4e6c-e79f-983b0426f36d"
      },
      "execution_count": 14,
      "outputs": [
        {
          "output_type": "stream",
          "name": "stdout",
          "text": [
            "[[0 0]\n",
            " [0 0]\n",
            " [0 0]\n",
            " [0 0]]\n"
          ]
        }
      ]
    },
    {
      "cell_type": "markdown",
      "source": [
        " 5. Return a new array of ones with same shape and type as a given array.{Hint: np.ones like}\n"
      ],
      "metadata": {
        "id": "V_Z3Vq65f844"
      }
    },
    {
      "cell_type": "code",
      "source": [
        "#creating same shape and type of array as before but values filled with ones\n",
        "ones_arr=np.ones_like(zero_arr)\n",
        "print(ones_arr)"
      ],
      "metadata": {
        "colab": {
          "base_uri": "https://localhost:8080/"
        },
        "id": "6eYOgafAgCdQ",
        "outputId": "7652e3d0-e673-45cf-e07b-f6f485712a1b"
      },
      "execution_count": 15,
      "outputs": [
        {
          "output_type": "stream",
          "name": "stdout",
          "text": [
            "[[1 1]\n",
            " [1 1]\n",
            " [1 1]\n",
            " [1 1]]\n"
          ]
        }
      ]
    },
    {
      "cell_type": "markdown",
      "source": [
        " 6. For an existing list new_list = [1,2,3,4] convert to an numpy array.{Hint: np.array()}"
      ],
      "metadata": {
        "id": "ad0g08p9f-n9"
      }
    },
    {
      "cell_type": "code",
      "source": [
        "new_list=[1,2,3,4]\n",
        "#converting list to array using numpy\n",
        "np_arr=np.array(new_list)\n",
        "print(np_arr)"
      ],
      "metadata": {
        "colab": {
          "base_uri": "https://localhost:8080/"
        },
        "id": "_548rq0lf-W3",
        "outputId": "bc3fb111-4f20-450b-c757-6d6603d5e62d"
      },
      "execution_count": 16,
      "outputs": [
        {
          "output_type": "stream",
          "name": "stdout",
          "text": [
            "[1 2 3 4]\n"
          ]
        }
      ]
    },
    {
      "cell_type": "markdown",
      "source": [
        " Problem- 2: Array Manipulation: Numerical Ranges and Array indexing:\n",
        " Complete the following tasks:\n",
        " 1. Create an array with values ranging from 10 to 49. {Hint:np.arrange()}."
      ],
      "metadata": {
        "id": "lLTLs7uUhW1g"
      }
    },
    {
      "cell_type": "code",
      "source": [
        "#arange function doesn't include stop-value\n",
        "range_arr=np.arange(10,50)\n",
        "print(range_arr)"
      ],
      "metadata": {
        "colab": {
          "base_uri": "https://localhost:8080/"
        },
        "id": "_0AaQERqhatn",
        "outputId": "3c146878-da0d-48d8-b5a5-43c931bb2c41"
      },
      "execution_count": 18,
      "outputs": [
        {
          "output_type": "stream",
          "name": "stdout",
          "text": [
            "[10 11 12 13 14 15 16 17 18 19 20 21 22 23 24 25 26 27 28 29 30 31 32 33\n",
            " 34 35 36 37 38 39 40 41 42 43 44 45 46 47 48 49]\n"
          ]
        }
      ]
    },
    {
      "cell_type": "markdown",
      "source": [
        "2. Create a 3X3 matrix with values ranging from 0 to 8.\n",
        " {Hint:look for np.reshape()}"
      ],
      "metadata": {
        "id": "3NZdDJWvh8-z"
      }
    },
    {
      "cell_type": "code",
      "source": [
        "#creating a 1D array from 0-8\n",
        "ara=np.arange(0,9)\n",
        "#shaping 1D array to 3D square array\n",
        "mat=ara.reshape(3,3)\n",
        "print(mat)"
      ],
      "metadata": {
        "colab": {
          "base_uri": "https://localhost:8080/"
        },
        "id": "ZwGLUemqjwoO",
        "outputId": "74d6ec16-0f7d-43e7-aa0e-7d13817a1a5e"
      },
      "execution_count": 22,
      "outputs": [
        {
          "output_type": "stream",
          "name": "stdout",
          "text": [
            "[[0 1 2]\n",
            " [3 4 5]\n",
            " [6 7 8]]\n"
          ]
        }
      ]
    },
    {
      "cell_type": "markdown",
      "source": [
        " 3. Create a 3X3 identity matrix.{Hint:np.eye()"
      ],
      "metadata": {
        "id": "xAFkV49mkkMl"
      }
    },
    {
      "cell_type": "code",
      "source": [
        "#identity consists of squared matrix of 0-1\n",
        "id_mat=np.eye(3)\n",
        "print(id_mat)"
      ],
      "metadata": {
        "colab": {
          "base_uri": "https://localhost:8080/"
        },
        "id": "3C9fuTdgkkvG",
        "outputId": "f89c7467-75ea-4630-d96e-291d9dec2240"
      },
      "execution_count": 23,
      "outputs": [
        {
          "output_type": "stream",
          "name": "stdout",
          "text": [
            "[[1. 0. 0.]\n",
            " [0. 1. 0.]\n",
            " [0. 0. 1.]]\n"
          ]
        }
      ]
    },
    {
      "cell_type": "markdown",
      "source": [
        " 4. Create a random array of size 30 and find the mean of the array."
      ],
      "metadata": {
        "id": "YjwO1sYAlEWt"
      }
    },
    {
      "cell_type": "code",
      "source": [
        "rand= np.random.random(30)\n",
        "#calculate mean using built-in mean()\n",
        "mean_arr=rand.mean()\n",
        "print(mean_arr)"
      ],
      "metadata": {
        "colab": {
          "base_uri": "https://localhost:8080/"
        },
        "id": "5jWa-OvKlKl0",
        "outputId": "6cc1750b-0bc6-4a93-ad9b-16ae58782606"
      },
      "execution_count": 31,
      "outputs": [
        {
          "output_type": "stream",
          "name": "stdout",
          "text": [
            "0.5198178764761849\n"
          ]
        }
      ]
    },
    {
      "cell_type": "markdown",
      "source": [
        " 5. Create a 10X10 array with random values and find the minimum and maximum values"
      ],
      "metadata": {
        "id": "B2JKbmimlt6t"
      }
    },
    {
      "cell_type": "code",
      "source": [
        "#generate 10D array of random values\n",
        "rand=np.random.random((10,10))\n",
        "max_value=rand.max()\n",
        "min_value=rand.min()\n",
        "print(f\"Maximum value:{max_value}\")\n",
        "print(f\"Minimum value:{min_value}\")"
      ],
      "metadata": {
        "colab": {
          "base_uri": "https://localhost:8080/"
        },
        "id": "ZTO2O34Dlukt",
        "outputId": "3fb13a4a-c38c-4541-c3dc-0abafe79aef4"
      },
      "execution_count": 39,
      "outputs": [
        {
          "output_type": "stream",
          "name": "stdout",
          "text": [
            "Maximum value:0.9924301158204863\n",
            "Minimum value:0.02248475882697376\n"
          ]
        }
      ]
    },
    {
      "cell_type": "markdown",
      "source": [
        " 6. Create a zero array of size 10 and replace 5th element with 1"
      ],
      "metadata": {
        "id": "lVYrKvI6mN73"
      }
    },
    {
      "cell_type": "code",
      "source": [
        "#Generating 1D zero array of size 10\n",
        "zer= np.zeros(10)\n",
        "#Replace 5th element with 1 by indexing\n",
        "zer[4]=1\n",
        "print(zer)"
      ],
      "metadata": {
        "colab": {
          "base_uri": "https://localhost:8080/"
        },
        "id": "I98H88uuoE-7",
        "outputId": "3eab5356-3bbe-41a8-8fee-f9e02532e7f9"
      },
      "execution_count": 40,
      "outputs": [
        {
          "output_type": "stream",
          "name": "stdout",
          "text": [
            "[0. 0. 0. 0. 1. 0. 0. 0. 0. 0.]\n"
          ]
        }
      ]
    },
    {
      "cell_type": "markdown",
      "source": [
        " 7. Reverse an array arr = [1,2,0,0,4,0]."
      ],
      "metadata": {
        "id": "U4gz4Oecoc_Q"
      }
    },
    {
      "cell_type": "code",
      "source": [
        "arr = [1,2,0,0,4,0]\n",
        "#reverse slicing operation\n",
        "rev = arr[::-1]\n",
        "print(f\"Reversed array is: {rev}\")"
      ],
      "metadata": {
        "colab": {
          "base_uri": "https://localhost:8080/"
        },
        "id": "doUPmHfyodln",
        "outputId": "9050fb81-4971-45a6-f5fa-1a3eab6fcd65"
      },
      "execution_count": 42,
      "outputs": [
        {
          "output_type": "stream",
          "name": "stdout",
          "text": [
            "Reversed array is: [0, 4, 0, 0, 2, 1]\n"
          ]
        }
      ]
    },
    {
      "cell_type": "markdown",
      "source": [
        " 8. Create a 2d array with 1 on border and 0 inside."
      ],
      "metadata": {
        "id": "PsYtUp0dpk3V"
      }
    },
    {
      "cell_type": "code",
      "source": [
        "#generating 2D zero array with 7 rows and columns\n",
        "arr = np.zeros((7,7))\n",
        "#setting elements of first row to 1\n",
        "arr[0,:] = 1\n",
        "\n",
        "#set elements of last row to 1\n",
        "arr[-1,:] = 1\n",
        "print(arr)"
      ],
      "metadata": {
        "colab": {
          "base_uri": "https://localhost:8080/"
        },
        "id": "U2rf6lIQpmKa",
        "outputId": "8d0ab22f-4240-4c2b-8d68-79418725bb87"
      },
      "execution_count": 48,
      "outputs": [
        {
          "output_type": "stream",
          "name": "stdout",
          "text": [
            "[[1. 1. 1. 1. 1. 1. 1.]\n",
            " [0. 0. 0. 0. 0. 0. 0.]\n",
            " [0. 0. 0. 0. 0. 0. 0.]\n",
            " [0. 0. 0. 0. 0. 0. 0.]\n",
            " [0. 0. 0. 0. 0. 0. 0.]\n",
            " [0. 0. 0. 0. 0. 0. 0.]\n",
            " [1. 1. 1. 1. 1. 1. 1.]]\n"
          ]
        }
      ]
    },
    {
      "cell_type": "markdown",
      "source": [
        " 9. Create a 8X8 matrix and fill it with a checkerboard pattern"
      ],
      "metadata": {
        "id": "m802tH1_rxdr"
      }
    },
    {
      "cell_type": "code",
      "source": [
        "arr = np.zeros((8,8))\n",
        "#fill value 1 to even rows and column indexes\n",
        "arr[::2, ::2] = 1\n",
        "\n",
        "#fill value 0 to odd rows and column indexes\n",
        "arr[1::2, 1::2] = 1\n",
        "print(arr)"
      ],
      "metadata": {
        "colab": {
          "base_uri": "https://localhost:8080/"
        },
        "id": "VYJT3wCJrapK",
        "outputId": "73592214-374d-4a9e-f270-e295d8a67b00"
      },
      "execution_count": 58,
      "outputs": [
        {
          "output_type": "stream",
          "name": "stdout",
          "text": [
            "[[1. 0. 1. 0. 1. 0. 1. 0.]\n",
            " [0. 1. 0. 1. 0. 1. 0. 1.]\n",
            " [1. 0. 1. 0. 1. 0. 1. 0.]\n",
            " [0. 1. 0. 1. 0. 1. 0. 1.]\n",
            " [1. 0. 1. 0. 1. 0. 1. 0.]\n",
            " [0. 1. 0. 1. 0. 1. 0. 1.]\n",
            " [1. 0. 1. 0. 1. 0. 1. 0.]\n",
            " [0. 1. 0. 1. 0. 1. 0. 1.]]\n"
          ]
        }
      ]
    },
    {
      "cell_type": "markdown",
      "source": [
        "Problem- 3: Array Operations:\n",
        " For the following arrays"
      ],
      "metadata": {
        "id": "vDM9Z_3HtZSR"
      }
    },
    {
      "cell_type": "markdown",
      "source": [
        " x = np.array([[1,2],[3,5]]) and y = np.array([[5,6],[7,8]]);\n",
        " v = np.array([9,10]) and w = np.array([11,12])"
      ],
      "metadata": {
        "id": "RChueny_thm6"
      }
    },
    {
      "cell_type": "code",
      "source": [
        "x = np.array([[1,2],[3,5]])\n",
        "y = np.array([[5,6],[7,8]])\n",
        "v = np.array([9,10])\n",
        "w = np.array([11,12])"
      ],
      "metadata": {
        "id": "0DiYMTdzuIbi"
      },
      "execution_count": 60,
      "outputs": []
    },
    {
      "cell_type": "markdown",
      "source": [
        "Complete all the tasks using numpy"
      ],
      "metadata": {
        "id": "cQKnWcMstkWe"
      }
    },
    {
      "cell_type": "markdown",
      "source": [
        "1. Add the two array."
      ],
      "metadata": {
        "id": "AaFxemyKtorT"
      }
    },
    {
      "cell_type": "code",
      "source": [
        "ad= np.add(x,y)\n",
        "print(f\"{x} + {y} = {ad} \\n\")\n",
        "\n",
        "ad1= np.add(v,w)\n",
        "print(f\"{v} + {w} = {ad1}\")"
      ],
      "metadata": {
        "colab": {
          "base_uri": "https://localhost:8080/"
        },
        "id": "nkvpitvMtwXH",
        "outputId": "fee249a9-4433-46dc-82fa-aa583053006c"
      },
      "execution_count": 73,
      "outputs": [
        {
          "output_type": "stream",
          "name": "stdout",
          "text": [
            "[[1 2]\n",
            " [3 5]] + [[5 6]\n",
            " [7 8]] = [[ 6  8]\n",
            " [10 13]] \n",
            "\n",
            "[ 9 10] + [11 12] = [20 22]\n"
          ]
        }
      ]
    },
    {
      "cell_type": "markdown",
      "source": [
        "2. Subtract the two array."
      ],
      "metadata": {
        "id": "fPU1fY99u9Zm"
      }
    },
    {
      "cell_type": "code",
      "source": [
        "sub1 = np.subtract(y,x)\n",
        "print(f\"y-x={sub1}\")\n",
        "sub2 = np.subtract(w,v)\n",
        "print(f\"w-v={sub2}\")"
      ],
      "metadata": {
        "colab": {
          "base_uri": "https://localhost:8080/"
        },
        "id": "3fHrQblXu-qA",
        "outputId": "cd57a6f9-3915-4fc0-e7de-467b76eb7896"
      },
      "execution_count": 77,
      "outputs": [
        {
          "output_type": "stream",
          "name": "stdout",
          "text": [
            "y-x=[[4 4]\n",
            " [4 3]]\n",
            "w-v=[2 2]\n"
          ]
        }
      ]
    },
    {
      "cell_type": "markdown",
      "source": [
        " 3. Multiply the array with any integers of your choice."
      ],
      "metadata": {
        "id": "dBYpwo_Av2DX"
      }
    },
    {
      "cell_type": "code",
      "source": [
        "mul1 = np.multiply(2,x)\n",
        "print(f\"2*x={mul1}\")\n",
        "mul2 = np.multiply(2,y)\n",
        "print(f\"2*y={mul2}\")\n",
        "mul3 = np.multiply(3,v)\n",
        "print(f\"3*v={mul3}\")\n",
        "mul4 = np.multiply(7,w)\n",
        "print(f\"7*w={mul4}\")\n",
        "\n",
        "\n"
      ],
      "metadata": {
        "colab": {
          "base_uri": "https://localhost:8080/"
        },
        "id": "jxrGFaY7xLNT",
        "outputId": "caffdc55-983f-486b-b9a4-d7f16851ef39"
      },
      "execution_count": 81,
      "outputs": [
        {
          "output_type": "stream",
          "name": "stdout",
          "text": [
            "2*x=[[ 2  4]\n",
            " [ 6 10]]\n",
            "2*y=[[10 12]\n",
            " [14 16]]\n",
            "3*v=[27 30]\n",
            "7*w=[77 84]\n"
          ]
        }
      ]
    },
    {
      "cell_type": "markdown",
      "source": [
        " 4. Find the square of each element of the array"
      ],
      "metadata": {
        "id": "8_EUXwtOx7wO"
      }
    },
    {
      "cell_type": "code",
      "source": [
        "sqrx = np.square(x)\n",
        "sqry = np.square(y)\n",
        "sqrv = np.square(v)\n",
        "sqrw = np.square(w)\n",
        "print(f\"x**2={sqrx}\")\n",
        "print(f\"y**2={sqry}\")\n",
        "print(f\"v**2={sqrv}\")\n",
        "print(f\"w**2={sqrw}\")\n"
      ],
      "metadata": {
        "colab": {
          "base_uri": "https://localhost:8080/"
        },
        "id": "NkoPtK_4yJeI",
        "outputId": "38e176fe-74af-4141-f9c6-6b9598d16bd3"
      },
      "execution_count": 82,
      "outputs": [
        {
          "output_type": "stream",
          "name": "stdout",
          "text": [
            "x**2=[[ 1  4]\n",
            " [ 9 25]]\n",
            "y**2=[[25 36]\n",
            " [49 64]]\n",
            "v**2=[ 81 100]\n",
            "w**2=[121 144]\n"
          ]
        }
      ]
    },
    {
      "cell_type": "markdown",
      "source": [
        "5. Find the dot product between: v(and)w ; x(and)v ; x(and)y."
      ],
      "metadata": {
        "id": "jNms2a0JypK9"
      }
    },
    {
      "cell_type": "code",
      "source": [
        "dotvw = np.dot(v,w)\n",
        "print(f\"Dot product between v and w is {dotvw}\")\n",
        "dotxv = np.dot(x,v)\n",
        "print(f\"Dot product between x and v is {dotxv}\")\n",
        "dotxy = np.dot(x,y)\n",
        "print(f\"Dot product between x and y is {dotxy}\")"
      ],
      "metadata": {
        "colab": {
          "base_uri": "https://localhost:8080/"
        },
        "id": "FgiCNOiWyqe5",
        "outputId": "3470b85d-9e8c-4ccf-a489-1a852fa3ede9"
      },
      "execution_count": 83,
      "outputs": [
        {
          "output_type": "stream",
          "name": "stdout",
          "text": [
            "Dot product between v and w is 219\n",
            "Dot product between x and v is [29 77]\n",
            "Dot product between x and y is [[19 22]\n",
            " [50 58]]\n"
          ]
        }
      ]
    },
    {
      "cell_type": "markdown",
      "source": [
        "6. Concatenate x(and)y along row and Concatenate v(and)w along column"
      ],
      "metadata": {
        "id": "3oFuFKRJzD2A"
      }
    },
    {
      "cell_type": "code",
      "source": [
        "xy_concat = np.vstack((x,y))\n",
        "print(\"Concatenate x and y along rows: \",xy_concat)\n",
        "\n",
        "v1 = v.reshape(-1,1)\n",
        "w1 = w.reshape(-1,1)\n",
        "vw_concat = np.concatenate((v1,w1),axis=1)\n",
        "print(\"Concatenate v and w along columns: \",vw_concat)"
      ],
      "metadata": {
        "colab": {
          "base_uri": "https://localhost:8080/"
        },
        "id": "TeSidWUAzIgD",
        "outputId": "59170dd8-a6b5-480c-a3de-f7254b7d8daa"
      },
      "execution_count": 89,
      "outputs": [
        {
          "output_type": "stream",
          "name": "stdout",
          "text": [
            "Concatenate x and y along rows:  [[1 2]\n",
            " [3 5]\n",
            " [5 6]\n",
            " [7 8]]\n",
            "Concatenate v and w along columns:  [[ 9 11]\n",
            " [10 12]]\n"
          ]
        }
      ]
    },
    {
      "cell_type": "markdown",
      "source": [
        " 7. Concatenate x(and)v; if you get an error, observe and explain why did you get the error"
      ],
      "metadata": {
        "id": "85f4JEzW14NA"
      }
    },
    {
      "cell_type": "code",
      "source": [
        "try:\n",
        "  concat_xv = np.concatenate((x, v), axis=0)\n",
        "  #shapes of the arrays don't have same number of dimensions\n",
        "  print(\"Concatenation of x and v along rows:\", concat_xv)\n",
        "except ValueError as e:\n",
        "    print(\"\\nError when concatenating x and v:\", e)"
      ],
      "metadata": {
        "colab": {
          "base_uri": "https://localhost:8080/"
        },
        "id": "tCWhxgYN1-7a",
        "outputId": "f91bb365-15d8-445c-d46c-34377b86ed12"
      },
      "execution_count": 133,
      "outputs": [
        {
          "output_type": "stream",
          "name": "stdout",
          "text": [
            "\n",
            "Error when concatenating x and v: all the input arrays must have same number of dimensions, but the array at index 0 has 2 dimension(s) and the array at index 1 has 1 dimension(s)\n"
          ]
        }
      ]
    },
    {
      "cell_type": "markdown",
      "source": [
        "Problem- 4: Matrix Operations:\n",
        " • For the following arrays:\n",
        " A = np.array([[3,4],[7,8]]) and B = np.array([[5,3],[2,1]]);\n",
        " Prove following with Numpy:"
      ],
      "metadata": {
        "id": "GrXKlzKe3XAI"
      }
    },
    {
      "cell_type": "markdown",
      "source": [
        "1. Prove A.A−1 = I."
      ],
      "metadata": {
        "id": "ML6v7hQy3b6c"
      }
    },
    {
      "cell_type": "code",
      "source": [
        "A = np.array([[3,4],[7,8]])\n",
        "B = np.array([[5,3],[2,1]])\n",
        "#calculate A-1\n",
        "Arev = np.linalg.inv(A)\n",
        "\n",
        "#calculate A*A-1\n",
        "Ii = np.dot(A,Arev)\n",
        "I = np.round(Ii, decimals=13)\n",
        "\n",
        "print(I)\n"
      ],
      "metadata": {
        "colab": {
          "base_uri": "https://localhost:8080/"
        },
        "id": "EAyBZ6Ae3eAu",
        "outputId": "8ac89339-d8a0-4d1c-e310-da198f82823f"
      },
      "execution_count": 95,
      "outputs": [
        {
          "output_type": "stream",
          "name": "stdout",
          "text": [
            "[[1. 0.]\n",
            " [0. 1.]]\n"
          ]
        }
      ]
    },
    {
      "cell_type": "markdown",
      "source": [
        "\n",
        " 2. Prove AB= BA."
      ],
      "metadata": {
        "id": "6DpECk-H3fvy"
      }
    },
    {
      "cell_type": "code",
      "source": [
        "A = np.array([[3,4],[7,8]])\n",
        "B = np.array([[5,3],[2,1]])\n",
        "AB = np.dot(A,B)\n",
        "BA = np.dot(B,A)\n",
        "print(\"Dot product of A and B is: \\n\", AB)\n",
        "print(\"Dot product of B and A is: \\n\", BA)\n"
      ],
      "metadata": {
        "colab": {
          "base_uri": "https://localhost:8080/"
        },
        "id": "tngnuf3L3kWr",
        "outputId": "34b6c0c7-75da-4435-efb2-2f6678ca5e16"
      },
      "execution_count": 100,
      "outputs": [
        {
          "output_type": "stream",
          "name": "stdout",
          "text": [
            "Dot product of A and B is: \n",
            " [[23 13]\n",
            " [51 29]]\n",
            "Dot product of B and A is: \n",
            " [[36 44]\n",
            " [13 16]]\n"
          ]
        }
      ]
    },
    {
      "cell_type": "markdown",
      "source": [
        "\n",
        " 3. Prove (AB)T = BTAT"
      ],
      "metadata": {
        "id": "jQNfHivh3lF-"
      }
    },
    {
      "cell_type": "code",
      "source": [
        "A = np.array([[3,4],[7,8]])\n",
        "B = np.array([[5,3],[2,1]])\n",
        "AB = np.dot(A,B)\n",
        "BA = np.dot(B,A)\n",
        "ABT = AB.T\n",
        "BT = B.T\n",
        "AT = A.T\n",
        "BTAT = np.dot(BT,AT)\n",
        "print(\"(AB)T is: \\n\", ABT)\n",
        "print(\"BTAT is: \\n\", BTAT)"
      ],
      "metadata": {
        "colab": {
          "base_uri": "https://localhost:8080/"
        },
        "id": "52f33msf3men",
        "outputId": "a73dc4f3-5091-45ab-a80e-e742cd171214"
      },
      "execution_count": 103,
      "outputs": [
        {
          "output_type": "stream",
          "name": "stdout",
          "text": [
            "(AB)T is: \n",
            " [[23 51]\n",
            " [13 29]]\n",
            "BTAT is: \n",
            " [[23 51]\n",
            " [13 29]]\n"
          ]
        }
      ]
    },
    {
      "cell_type": "markdown",
      "source": [
        " Solve the following system of Linear equation using Inverse Methods.\n",
        " 2x −3y+z =−1\n",
        " x −y+2z =−3\n",
        " 3x +y−z =9"
      ],
      "metadata": {
        "id": "tE-mNQB47fow"
      }
    },
    {
      "cell_type": "code",
      "source": [
        "'''2x −3y+z =−1\n",
        " x −y+2z =−3\n",
        " 3x +y−z =9 defining in matrix form'''\n",
        "A = np.array([[2,-3,1],[1,-1,2],[3,1,-1]])\n",
        "B = np.array([-1,-3,9])\n"
      ],
      "metadata": {
        "id": "1-iGOice7ts4"
      },
      "execution_count": 108,
      "outputs": []
    },
    {
      "cell_type": "markdown",
      "source": [
        "Now: solve the above equation using np.linalg.inv function.{Explore more about ”linalg” func\n",
        "tion of Numpy"
      ],
      "metadata": {
        "id": "u7JpbSAk8LfW"
      }
    },
    {
      "cell_type": "code",
      "source": [
        "Ainv = np.linalg.inv(A)\n",
        "#A.X = B\n",
        "#X = A-1*B\n",
        "X = np.dot(Ainv,B)\n",
        "print(\"[x y z] is : \\n\",X)"
      ],
      "metadata": {
        "colab": {
          "base_uri": "https://localhost:8080/"
        },
        "id": "0fjM7QMo8Nhd",
        "outputId": "98ed9ee5-f6c0-4c47-8ed3-89c0680675d2"
      },
      "execution_count": 109,
      "outputs": [
        {
          "output_type": "stream",
          "name": "stdout",
          "text": [
            "[x y z] is : \n",
            " [ 2.  1. -2.]\n"
          ]
        }
      ]
    },
    {
      "cell_type": "markdown",
      "source": [
        " 10.2 Experiment: How Fast is Numpy?\n",
        " In this exercise, you will compare the performance and implementation of operations using plain Python\n",
        " lists (arrays) and NumPy arrays. Follow the instructions:"
      ],
      "metadata": {
        "id": "zhex6KR18cZE"
      }
    },
    {
      "cell_type": "markdown",
      "source": [
        "1. Element-wise Addition:\n",
        " • Using Python Lists, perform element-wise addition of two lists of size 1,000,000. Measure\n",
        " and Print the time taken for this operation."
      ],
      "metadata": {
        "id": "_lc4D-MF91sG"
      }
    },
    {
      "cell_type": "code",
      "source": [
        "import time\n",
        "list1 = [i for i in range(1, 1000001)]\n",
        "list2 = [i for i in range(1,1000001)]\n",
        "n = len(list1)\n",
        "#measure time\n",
        "starttime = time.time()\n",
        "\n",
        "#calculating through element wise addition\n",
        "value = [list1[i] + list2[i] for i in range(n)]\n",
        "endtime = time.time()\n",
        "print(\"Time taken for element-wise addition: \", endtime - starttime, \"seconds\")"
      ],
      "metadata": {
        "colab": {
          "base_uri": "https://localhost:8080/"
        },
        "id": "8u_N1qGo96Yz",
        "outputId": "519a0bdf-a007-492c-a1fd-40cb6ba15533"
      },
      "execution_count": 115,
      "outputs": [
        {
          "output_type": "stream",
          "name": "stdout",
          "text": [
            "Time taken for element-wise addition:  0.08153200149536133 seconds\n"
          ]
        }
      ]
    },
    {
      "cell_type": "markdown",
      "source": [
        " Using Numpy Arrays, Repeat the calculation and measure and print the time taken for\n",
        " this operation."
      ],
      "metadata": {
        "id": "_0quJ4ZQFg6l"
      }
    },
    {
      "cell_type": "code",
      "source": [
        "import numpy as np\n",
        "import time\n",
        "arr1 = np.arange(1,100001)\n",
        "arr2 = np.arange(1,100001)\n",
        "#calculate time taken for element-wise addition\n",
        "starttime = time.time()\n",
        "value = arr1 + arr2\n",
        "endtime = time.time()\n",
        "print(\"Time taken for element-wise addition: \", endtime - starttime, \"seconds\")"
      ],
      "metadata": {
        "colab": {
          "base_uri": "https://localhost:8080/"
        },
        "id": "qEYeJ0k_Fh8R",
        "outputId": "39935ccf-0017-44fb-9c4a-96635ebb8498"
      },
      "execution_count": 119,
      "outputs": [
        {
          "output_type": "stream",
          "name": "stdout",
          "text": [
            "Time taken for element-wise addition:  0.00042748451232910156 seconds\n"
          ]
        }
      ]
    },
    {
      "cell_type": "markdown",
      "source": [
        "2. Element-wise Multiplication\n",
        " • Using Python Lists, perform element-wise multiplication of two lists of size 1,000,000.\n",
        " Measure and Print the time taken for this operation.\n"
      ],
      "metadata": {
        "id": "T6gGe84TGWTC"
      }
    },
    {
      "cell_type": "code",
      "source": [
        "import time\n",
        "list1 = [i for i in range(1, 1000001)]\n",
        "list2 = [i for i in range(1,1000001)]\n",
        "n = len(list1)\n",
        "#measure time\n",
        "starttime = time.time()\n",
        "\n",
        "#calculating through element wise addition\n",
        "value = [list1[i] * list2[i] for i in range(n)]\n",
        "endtime = time.time()\n",
        "print(\"Time taken for element-wise multiplication: \", endtime - starttime, \"seconds\")"
      ],
      "metadata": {
        "colab": {
          "base_uri": "https://localhost:8080/"
        },
        "id": "UYcVjIYuGeQG",
        "outputId": "85923f01-df68-4c46-faab-5fb709cfcc1c"
      },
      "execution_count": 120,
      "outputs": [
        {
          "output_type": "stream",
          "name": "stdout",
          "text": [
            "Time taken for element-wise multiplication:  0.12313318252563477 seconds\n"
          ]
        }
      ]
    },
    {
      "cell_type": "markdown",
      "source": [
        " • Using Numpy Arrays, Repeat the calculation and measure and print the time taken for\n",
        " this operation."
      ],
      "metadata": {
        "id": "adzQ3BrAGY-t"
      }
    },
    {
      "cell_type": "code",
      "source": [
        "import numpy as np\n",
        "import time\n",
        "arr1 = np.arange(1,100001)\n",
        "arr2 = np.arange(1,100001)\n",
        "#calculate time taken for element-wise addition\n",
        "starttime = time.time()\n",
        "value = arr1 * arr2\n",
        "endtime = time.time()\n",
        "print(\"Time taken for element-wise addition: \", endtime - starttime, \"seconds\")"
      ],
      "metadata": {
        "colab": {
          "base_uri": "https://localhost:8080/"
        },
        "id": "7jtxETAqG3o2",
        "outputId": "a405e218-d784-4be1-cccf-d2516b72b5d9"
      },
      "execution_count": 121,
      "outputs": [
        {
          "output_type": "stream",
          "name": "stdout",
          "text": [
            "Time taken for element-wise addition:  0.0006148815155029297 seconds\n"
          ]
        }
      ]
    },
    {
      "cell_type": "markdown",
      "source": [
        " 3. Dot Product\n",
        " • Using Python Lists, compute the dot product of two lists of size 1,000,000. Measure and\n",
        " Print the time taken for this operation.\n",
        ""
      ],
      "metadata": {
        "id": "HvmONLyRG_FI"
      }
    },
    {
      "cell_type": "code",
      "source": [
        "import time\n",
        "\n",
        "# Creating two lists of size 1,000,000\n",
        "list1 = range(1, 1000001)\n",
        "list2 = range(1, 1000001)\n",
        "\n",
        "# Calculating start time\n",
        "starttime = time.time()\n",
        "\n",
        "# Calculating the dot product\n",
        "dot_product = sum([list1[i] * list2[i] for i in range(len(list1))])\n",
        "\n",
        "# Calculating end time\n",
        "endtime = time.time()\n",
        "\n",
        "# Print the time taken\n",
        "print(\"Time taken for dot product:\", endtime - starttime, \"seconds\")\n"
      ],
      "metadata": {
        "colab": {
          "base_uri": "https://localhost:8080/"
        },
        "id": "9nP0NGGYHB_g",
        "outputId": "1a97bacb-7cbb-4587-a016-d741bb365b5f"
      },
      "execution_count": 123,
      "outputs": [
        {
          "output_type": "stream",
          "name": "stdout",
          "text": [
            "Time taken for dot product: 0.24595165252685547 seconds\n"
          ]
        }
      ]
    },
    {
      "cell_type": "markdown",
      "source": [
        "• Using Numpy Arrays, Repeat the calculation and measure and print the time taken for\n",
        " this operation."
      ],
      "metadata": {
        "id": "n-z25rIDHAbW"
      }
    },
    {
      "cell_type": "code",
      "source": [
        "import numpy as np\n",
        "import time\n",
        "\n",
        "# Creating two arrays of size 1,000,000\n",
        "arr1 = np.arange(1, 1000001)\n",
        "arr2 = np.arange(1, 1000001)\n",
        "\n",
        "# Measuring the time taken\n",
        "starttime = time.time()\n",
        "\n",
        "# Performing dot product\n",
        "dot_product = np.dot(arr1, arr2)\n",
        "\n",
        "endtime = time.time()\n",
        "\n",
        "# Printing the time taken for the operation\n",
        "print(\"Time taken for dot product:\", endtime - starttime, \"seconds\")"
      ],
      "metadata": {
        "colab": {
          "base_uri": "https://localhost:8080/"
        },
        "id": "OGFXl08THaHV",
        "outputId": "98f446b6-b1b5-4286-970b-b0c927c83b41"
      },
      "execution_count": 122,
      "outputs": [
        {
          "output_type": "stream",
          "name": "stdout",
          "text": [
            "Time taken for dot product: 0.0051648616790771484 seconds\n"
          ]
        }
      ]
    },
    {
      "cell_type": "markdown",
      "source": [
        "4. Matrix Multiplication\n",
        " • Using Python lists, perform matrix multiplication of two matrices of size 1000x1000. Measure and print the time taken for this operation.\n",
        ""
      ],
      "metadata": {
        "id": "7vJsTnOxILyh"
      }
    },
    {
      "cell_type": "code",
      "source": [
        "# Creating two empty 1000*1000 matrices\n",
        "m1 = []\n",
        "m2 = []\n",
        "result = []\n",
        "for i in range(1000):\n",
        "  m1.append([7]*1000)\n",
        "  m2.append([13]*1000)\n",
        "\n",
        "# Calculating start time\n",
        "starttime = time.time()\n",
        "\n",
        "# Performing matrix multiplication\n",
        "for i in range(1000): # Loop for rows of matrix 1\n",
        "  row = []\n",
        "  for j in range(1000): # Loop for columns of matrix 2\n",
        "    value = 0\n",
        "    for k in range(1000):\n",
        "      value += m1[i][k] * m2[k][j]\n",
        "    row.append(value) # Replace row elements by result of dot product\n",
        "  result.append(row) # Append all rows to form matrix\n",
        "\n",
        "# Calculating end time\n",
        "endtime = time.time()\n",
        "\n",
        "# Printing the time taken for the operation\n",
        "print(\"Time taken for matrix multiplication:\", endtime - starttime, \"seconds\")"
      ],
      "metadata": {
        "colab": {
          "base_uri": "https://localhost:8080/"
        },
        "id": "vKYreJccIP_u",
        "outputId": "e68fa98e-7426-4df3-c7bb-740f8a2c3dd7"
      },
      "execution_count": 130,
      "outputs": [
        {
          "output_type": "stream",
          "name": "stdout",
          "text": [
            "Time taken for matrix multiplication: 279.7352395057678 seconds\n"
          ]
        }
      ]
    },
    {
      "cell_type": "markdown",
      "source": [
        " • Using NumPy arrays, perform matrix multiplication of two matrices of size 1000x1000.\n",
        " Measure and print the time taken for this operation"
      ],
      "metadata": {
        "id": "dQ80TcbvINzm"
      }
    },
    {
      "cell_type": "code",
      "source": [
        "import numpy as np\n",
        "import time\n",
        "\n",
        "# Creating matrix of 1000*1000 size\n",
        "m1 = np.random.random((1000, 1000))\n",
        "m2 = np.random.random((1000, 1000))\n",
        "\n",
        "# Measuring the time taken\n",
        "starttime = time.time()\n",
        "\n",
        "# Performing matrix multiplication\n",
        "value = np.dot(m1, m2)\n",
        "\n",
        "endtime = time.time()\n",
        "\n",
        "# Printing the time taken for the operation\n",
        "print(\"Time taken for matrix multiplication:\", endtime - starttime, \"seconds\")"
      ],
      "metadata": {
        "colab": {
          "base_uri": "https://localhost:8080/"
        },
        "id": "sKz7vRA-ITI0",
        "outputId": "bb5a3feb-5c06-4ed3-f9b4-527e814bc025"
      },
      "execution_count": 128,
      "outputs": [
        {
          "output_type": "stream",
          "name": "stdout",
          "text": [
            "Time taken for matrix multiplication: 0.06792473793029785 seconds\n"
          ]
        }
      ]
    }
  ]
}